{
 "cells": [
  {
   "cell_type": "code",
   "execution_count": 1,
   "metadata": {},
   "outputs": [],
   "source": [
    "from bayes_opt import BayesianOptimization"
   ]
  },
  {
   "cell_type": "code",
   "execution_count": 2,
   "metadata": {},
   "outputs": [],
   "source": [
    "import os\n",
    "import numpy as np\n",
    "import torch\n",
    "import torch.nn as nn\n",
    "from torch.utils.data import DataLoader, random_split\n",
    "from utils import MVTecDataset, evaluate_accuracy\n",
    "from models import MVTecSimpleCNN, MVTecResNet\n",
    "\n",
    "import time\n",
    "import argparse\n",
    "\n",
    "parser = argparse.ArgumentParser()\n",
    "\n",
    "parser.add_argument('-t', '--target', required=True, help='target class')\n",
    "parser.add_argument('-c', '--no_cuda', required=False, default=None, help='which cuda')\n",
    "parser.add_argument('--lr', default= 0.001, type=float , required=False, help='learning rate')\n",
    "parser.add_argument('--no_epoch', default= 30, type= int, required=False, help='number of epochs')\n",
    "parser.add_argument('--model', default= 'simpleCNN', required=True, help='simpleCNN, resnet18')\n",
    "# parser.add_argument('--freeze', default= True, type=bool, required=False, help='freeze pre-trained weights')\n",
    "\n",
    "args = parser.parse_args(\"--target pill --model resnet18 -c 2 --lr 0.001\".split())"
   ]
  },
  {
   "cell_type": "code",
   "execution_count": 3,
   "metadata": {},
   "outputs": [
    {
     "data": {
      "text/plain": [
       "Namespace(lr=0.001, model='resnet18', no_cuda='2', no_epoch=30, target='pill')"
      ]
     },
     "execution_count": 3,
     "metadata": {},
     "output_type": "execute_result"
    }
   ],
   "source": [
    "args"
   ]
  },
  {
   "cell_type": "code",
   "execution_count": 4,
   "metadata": {},
   "outputs": [],
   "source": [
    "target_class = args.target\n",
    "model_type = args.model\n",
    "# model_freeze = args.freeze\n",
    "\n",
    "save_path = os.path.join('./saves_BO/', target_class)"
   ]
  },
  {
   "cell_type": "code",
   "execution_count": 5,
   "metadata": {},
   "outputs": [],
   "source": [
    "if not os.path.exists(save_path):\n",
    "    os.makedirs(save_path)\n",
    "\n",
    "device_type='cuda'\n",
    "\n",
    "if args.no_cuda is not None:\n",
    "    device_type = 'cuda:'+str(args.no_cuda)"
   ]
  },
  {
   "cell_type": "code",
   "execution_count": 6,
   "metadata": {},
   "outputs": [],
   "source": [
    "device = torch.device(device_type if torch.cuda.is_available() else 'cpu')\n",
    "\n",
    "normal_list_dir = [os.path.join('./data/', target_class, 'train', 'good'), os.path.join('./data/', target_class, 'test', 'good')]\n",
    "\n",
    "test_dir = os.path.join('./data/', target_class, 'test')\n",
    "test_subfolders = next(os.walk(test_dir))[1]\n",
    "\n",
    "abnormal_list_dir=[]\n",
    "\n",
    "for item in test_subfolders:\n",
    "    if item != 'good':\n",
    "        abnormal_list_dir.append(os.path.join('./data/', target_class, 'test', item))\n",
    "\n",
    "dataset = MVTecDataset(normal_list_dir, abnormal_list_dir)\n",
    "\n",
    "val_num = int(len(dataset)*0.15)\n",
    "test_num = int(len(dataset)*0.15)\n",
    "train_num = len(dataset) - val_num - test_num\n",
    "\n",
    "train_dataset, valid_dataset, test_dataset =random_split(dataset,[train_num, val_num, test_num])\n",
    "\n",
    "train_loader = DataLoader(train_dataset, batch_size=16, shuffle=True)\n",
    "valid_loader = DataLoader(valid_dataset, batch_size=16, shuffle=False)\n",
    "test_loader = DataLoader(test_dataset, batch_size=16, shuffle=False)\n",
    "\n",
    "\n",
    "# learning_rate = args.lr\n",
    "# num_epoch = args.no_epoch"
   ]
  },
  {
   "cell_type": "code",
   "execution_count": 7,
   "metadata": {},
   "outputs": [],
   "source": [
    "class MVTecCNN_BO(nn.Module):\n",
    "    def __init__(self, num_channel):\n",
    "        super(MVTecCNN_BO, self).__init__()\n",
    "        self.num_channel = num_channel\n",
    "        self.conv1 = nn.Conv2d(3, num_channel, kernel_size=5, stride=2)\n",
    "        self.bn1 = nn.BatchNorm2d(num_channel)\n",
    "        self.conv2 = nn.Conv2d(num_channel, num_channel*2, kernel_size=5)\n",
    "        self.bn2 = nn.BatchNorm2d(num_channel*2)\n",
    "        self.conv3 = nn.Conv2d(num_channel*2, num_channel*4, 5)\n",
    "        self.bn3 = nn.BatchNorm2d(num_channel*4)\n",
    "        self.conv4 = nn.Conv2d(num_channel*4, num_channel*8, 3)\n",
    "        self.bn4 = nn.BatchNorm2d(num_channel*8)\n",
    "        self.pool = nn.MaxPool2d(2)\n",
    "        self.relu = nn.ReLU()\n",
    "\n",
    "        self.fc1 = nn.Linear(num_channel*8*5*5, 128)\n",
    "        self.bn_fc1 = nn.BatchNorm1d(128)\n",
    "        self.fc2 = nn.Linear(128, 1)\n",
    "        self.sigmoid = nn.Sigmoid()\n",
    "\n",
    "    def forward(self, x):\n",
    "        x = self.pool(self.relu(self.bn1(self.conv1(x))))\n",
    "        x = self.pool(self.relu(self.bn2(self.conv2(x))))\n",
    "        x = self.pool(self.relu(self.bn3(self.conv3(x))))\n",
    "        x = self.pool(self.relu(self.bn4(self.conv4(x))))\n",
    "\n",
    "        x = x.view(-1, self.num_channel*8*5*5)\n",
    "        x = self.relu(self.bn_fc1(self.fc1(x)))\n",
    "        x = self.sigmoid(self.fc2(x))\n",
    "\n",
    "        return x"
   ]
  },
  {
   "cell_type": "code",
   "execution_count": 8,
   "metadata": {},
   "outputs": [],
   "source": [
    "def train(lr, num_channel):\n",
    "    net = MVTecCNN_BO(num_channel).to(device)\n",
    "    criterion = nn.BCELoss()\n",
    "    optimizer = torch.optim.Adam(net.parameters(), lr=lr)\n",
    "    best_val_acc = 0.\n",
    "    num_epoch = 15\n",
    "    \n",
    "    for epoch in range(num_epoch):\n",
    "        loss_count=0\n",
    "        loss_sum=0\n",
    "        for idx, (img, label) in enumerate(train_loader):\n",
    "            img = img.to(device)\n",
    "            label = label.to(device, dtype=torch.float)\n",
    "            label = label.view(-1,1)\n",
    "            pred = net(img)\n",
    "\n",
    "            optimizer.zero_grad()\n",
    "            loss = criterion(pred, label)\n",
    "            loss.backward()\n",
    "            optimizer.step()\n",
    "\n",
    "            loss_sum+=loss.item()\n",
    "            loss_count+=1\n",
    "            if idx%10==0:\n",
    "                net.eval()\n",
    "                val_acc = evaluate_accuracy(net, valid_loader, device)\n",
    "                if val_acc > best_val_acc:\n",
    "                    best_val_acc = val_acc                    \n",
    "                net.train()\n",
    "       \n",
    "    return best_val_acc"
   ]
  },
  {
   "cell_type": "code",
   "execution_count": 9,
   "metadata": {},
   "outputs": [],
   "source": [
    "def cnn_function(lr, num_channel):\n",
    "    num_channel = int(8 + num_channel*54)   # min 8, max 64\n",
    "    best_val_accuracy = train(lr, num_channel)    \n",
    "    return best_val_accuracy"
   ]
  },
  {
   "cell_type": "code",
   "execution_count": 10,
   "metadata": {},
   "outputs": [],
   "source": [
    "# Bounded region of parameter space\n",
    "pbounds = {'lr': (1e-7, 0.1), 'num_channel':(0, 1)}"
   ]
  },
  {
   "cell_type": "code",
   "execution_count": 11,
   "metadata": {},
   "outputs": [],
   "source": [
    "optimizer = BayesianOptimization(\n",
    "    f=cnn_function,\n",
    "    pbounds=pbounds,\n",
    "    verbose=2, # verbose = 1 prints only when a maximum is observed, verbose = 0 is silent\n",
    "    random_state=1,\n",
    ")"
   ]
  },
  {
   "cell_type": "code",
   "execution_count": 12,
   "metadata": {},
   "outputs": [
    {
     "name": "stdout",
     "output_type": "stream",
     "text": [
      "|   iter    |  target   |    lr     | num_ch... |\n",
      "-------------------------------------------------\n",
      "| \u001b[0m 1       \u001b[0m | \u001b[0m 0.7209  \u001b[0m | \u001b[0m 0.0417  \u001b[0m | \u001b[0m 0.7203  \u001b[0m |\n",
      "| \u001b[95m 2       \u001b[0m | \u001b[95m 0.7442  \u001b[0m | \u001b[95m 1.154e-0\u001b[0m | \u001b[95m 0.3023  \u001b[0m |\n",
      "| \u001b[0m 3       \u001b[0m | \u001b[0m 0.7093  \u001b[0m | \u001b[0m 0.01468 \u001b[0m | \u001b[0m 0.09234 \u001b[0m |\n",
      "| \u001b[0m 4       \u001b[0m | \u001b[0m 0.7209  \u001b[0m | \u001b[0m 0.1     \u001b[0m | \u001b[0m 0.3892  \u001b[0m |\n",
      "| \u001b[0m 5       \u001b[0m | \u001b[0m 0.6512  \u001b[0m | \u001b[0m 1e-07   \u001b[0m | \u001b[0m 0.5093  \u001b[0m |\n",
      "| \u001b[0m 6       \u001b[0m | \u001b[0m 0.6977  \u001b[0m | \u001b[0m 0.1     \u001b[0m | \u001b[0m 1.0     \u001b[0m |\n",
      "| \u001b[0m 7       \u001b[0m | \u001b[0m 0.6279  \u001b[0m | \u001b[0m 1e-07   \u001b[0m | \u001b[0m 1.0     \u001b[0m |\n",
      "| \u001b[0m 8       \u001b[0m | \u001b[0m 0.686   \u001b[0m | \u001b[0m 0.1     \u001b[0m | \u001b[0m 0.1785  \u001b[0m |\n",
      "| \u001b[0m 9       \u001b[0m | \u001b[0m 0.6628  \u001b[0m | \u001b[0m 0.1     \u001b[0m | \u001b[0m 0.8264  \u001b[0m |\n",
      "| \u001b[0m 10      \u001b[0m | \u001b[0m 0.686   \u001b[0m | \u001b[0m 0.1     \u001b[0m | \u001b[0m 0.0     \u001b[0m |\n",
      "| \u001b[0m 11      \u001b[0m | \u001b[0m 0.6047  \u001b[0m | \u001b[0m 0.1     \u001b[0m | \u001b[0m 0.6277  \u001b[0m |\n",
      "| \u001b[0m 12      \u001b[0m | \u001b[0m 0.5814  \u001b[0m | \u001b[0m 1e-07   \u001b[0m | \u001b[0m 0.0     \u001b[0m |\n",
      "| \u001b[0m 13      \u001b[0m | \u001b[0m 0.6977  \u001b[0m | \u001b[0m 0.01484 \u001b[0m | \u001b[0m 0.4067  \u001b[0m |\n",
      "| \u001b[0m 14      \u001b[0m | \u001b[0m 0.686   \u001b[0m | \u001b[0m 0.01926 \u001b[0m | \u001b[0m 0.2937  \u001b[0m |\n",
      "| \u001b[0m 15      \u001b[0m | \u001b[0m 0.6279  \u001b[0m | \u001b[0m 1e-07   \u001b[0m | \u001b[0m 0.8342  \u001b[0m |\n",
      "| \u001b[0m 16      \u001b[0m | \u001b[0m 0.5581  \u001b[0m | \u001b[0m 1e-07   \u001b[0m | \u001b[0m 0.186   \u001b[0m |\n",
      "| \u001b[95m 17      \u001b[0m | \u001b[95m 0.7558  \u001b[0m | \u001b[95m 0.000384\u001b[0m | \u001b[95m 0.2976  \u001b[0m |\n",
      "| \u001b[0m 18      \u001b[0m | \u001b[0m 0.6977  \u001b[0m | \u001b[0m 0.1     \u001b[0m | \u001b[0m 0.4917  \u001b[0m |\n",
      "| \u001b[0m 19      \u001b[0m | \u001b[0m 0.6744  \u001b[0m | \u001b[0m 1e-07   \u001b[0m | \u001b[0m 0.6464  \u001b[0m |\n",
      "| \u001b[0m 20      \u001b[0m | \u001b[0m 0.686   \u001b[0m | \u001b[0m 0.09966 \u001b[0m | \u001b[0m 0.08515 \u001b[0m |\n",
      "| \u001b[0m 21      \u001b[0m | \u001b[0m 0.7558  \u001b[0m | \u001b[0m 0.09861 \u001b[0m | \u001b[0m 0.9217  \u001b[0m |\n",
      "| \u001b[0m 22      \u001b[0m | \u001b[0m 0.7209  \u001b[0m | \u001b[0m 0.02195 \u001b[0m | \u001b[0m 0.8328  \u001b[0m |\n",
      "| \u001b[0m 23      \u001b[0m | \u001b[0m 0.7442  \u001b[0m | \u001b[0m 0.00171 \u001b[0m | \u001b[0m 0.3023  \u001b[0m |\n",
      "| \u001b[0m 24      \u001b[0m | \u001b[0m 0.7326  \u001b[0m | \u001b[0m 0.03156 \u001b[0m | \u001b[0m 0.922   \u001b[0m |\n",
      "| \u001b[0m 25      \u001b[0m | \u001b[0m 0.7326  \u001b[0m | \u001b[0m 0.06236 \u001b[0m | \u001b[0m 0.4453  \u001b[0m |\n",
      "| \u001b[0m 26      \u001b[0m | \u001b[0m 0.7442  \u001b[0m | \u001b[0m 0.04688 \u001b[0m | \u001b[0m 0.5718  \u001b[0m |\n",
      "| \u001b[0m 27      \u001b[0m | \u001b[0m 0.6744  \u001b[0m | \u001b[0m 0.04614 \u001b[0m | \u001b[0m 0.488   \u001b[0m |\n",
      "| \u001b[0m 28      \u001b[0m | \u001b[0m 0.7442  \u001b[0m | \u001b[0m 0.000395\u001b[0m | \u001b[0m 0.7464  \u001b[0m |\n",
      "| \u001b[0m 29      \u001b[0m | \u001b[0m 0.7093  \u001b[0m | \u001b[0m 0.06128 \u001b[0m | \u001b[0m 0.97    \u001b[0m |\n",
      "| \u001b[0m 30      \u001b[0m | \u001b[0m 0.7093  \u001b[0m | \u001b[0m 0.06615 \u001b[0m | \u001b[0m 0.8778  \u001b[0m |\n",
      "| \u001b[0m 31      \u001b[0m | \u001b[0m 0.7442  \u001b[0m | \u001b[0m 0.04799 \u001b[0m | \u001b[0m 0.7794  \u001b[0m |\n",
      "| \u001b[0m 32      \u001b[0m | \u001b[0m 0.7326  \u001b[0m | \u001b[0m 0.05173 \u001b[0m | \u001b[0m 0.04185 \u001b[0m |\n",
      "| \u001b[0m 33      \u001b[0m | \u001b[0m 0.6744  \u001b[0m | \u001b[0m 0.0617  \u001b[0m | \u001b[0m 0.1252  \u001b[0m |\n",
      "| \u001b[0m 34      \u001b[0m | \u001b[0m 0.593   \u001b[0m | \u001b[0m 1e-07   \u001b[0m | \u001b[0m 0.5785  \u001b[0m |\n",
      "| \u001b[0m 35      \u001b[0m | \u001b[0m 0.6744  \u001b[0m | \u001b[0m 0.1     \u001b[0m | \u001b[0m 0.559   \u001b[0m |\n",
      "| \u001b[0m 36      \u001b[0m | \u001b[0m 0.7093  \u001b[0m | \u001b[0m 0.0998  \u001b[0m | \u001b[0m 0.4325  \u001b[0m |\n",
      "| \u001b[95m 37      \u001b[0m | \u001b[95m 0.814   \u001b[0m | \u001b[95m 0.001162\u001b[0m | \u001b[95m 0.2973  \u001b[0m |\n",
      "| \u001b[0m 38      \u001b[0m | \u001b[0m 0.686   \u001b[0m | \u001b[0m 0.04322 \u001b[0m | \u001b[0m 0.8655  \u001b[0m |\n",
      "| \u001b[0m 39      \u001b[0m | \u001b[0m 0.7093  \u001b[0m | \u001b[0m 0.006771\u001b[0m | \u001b[0m 0.2649  \u001b[0m |\n",
      "| \u001b[0m 40      \u001b[0m | \u001b[0m 0.6047  \u001b[0m | \u001b[0m 1e-07   \u001b[0m | \u001b[0m 0.3412  \u001b[0m |\n",
      "| \u001b[0m 41      \u001b[0m | \u001b[0m 0.6977  \u001b[0m | \u001b[0m 0.08798 \u001b[0m | \u001b[0m 0.7494  \u001b[0m |\n",
      "| \u001b[0m 42      \u001b[0m | \u001b[0m 0.7209  \u001b[0m | \u001b[0m 0.1     \u001b[0m | \u001b[0m 0.3347  \u001b[0m |\n",
      "| \u001b[0m 43      \u001b[0m | \u001b[0m 0.6163  \u001b[0m | \u001b[0m 0.1     \u001b[0m | \u001b[0m 0.251   \u001b[0m |\n",
      "| \u001b[0m 44      \u001b[0m | \u001b[0m 0.6977  \u001b[0m | \u001b[0m 0.052   \u001b[0m | \u001b[0m 0.042   \u001b[0m |\n",
      "| \u001b[0m 45      \u001b[0m | \u001b[0m 0.7907  \u001b[0m | \u001b[0m 0.02962 \u001b[0m | \u001b[0m 0.03132 \u001b[0m |\n",
      "| \u001b[0m 46      \u001b[0m | \u001b[0m 0.686   \u001b[0m | \u001b[0m 0.05253 \u001b[0m | \u001b[0m 0.01467 \u001b[0m |\n",
      "| \u001b[0m 47      \u001b[0m | \u001b[0m 0.6512  \u001b[0m | \u001b[0m 0.01587 \u001b[0m | \u001b[0m 0.6697  \u001b[0m |\n",
      "| \u001b[0m 48      \u001b[0m | \u001b[0m 0.7326  \u001b[0m | \u001b[0m 0.06289 \u001b[0m | \u001b[0m 0.445   \u001b[0m |\n",
      "| \u001b[0m 49      \u001b[0m | \u001b[0m 0.6628  \u001b[0m | \u001b[0m 0.09443 \u001b[0m | \u001b[0m 0.6941  \u001b[0m |\n",
      "| \u001b[0m 50      \u001b[0m | \u001b[0m 0.6395  \u001b[0m | \u001b[0m 0.05588 \u001b[0m | \u001b[0m 0.3699  \u001b[0m |\n",
      "| \u001b[0m 51      \u001b[0m | \u001b[0m 0.7558  \u001b[0m | \u001b[0m 0.003277\u001b[0m | \u001b[0m 0.4527  \u001b[0m |\n",
      "| \u001b[0m 52      \u001b[0m | \u001b[0m 0.686   \u001b[0m | \u001b[0m 0.006891\u001b[0m | \u001b[0m 0.2645  \u001b[0m |\n",
      "| \u001b[0m 53      \u001b[0m | \u001b[0m 0.6163  \u001b[0m | \u001b[0m 1e-07   \u001b[0m | \u001b[0m 0.8902  \u001b[0m |\n",
      "=================================================\n",
      "Time consumed:  21941.479924678802\n"
     ]
    }
   ],
   "source": [
    "start = time.time()\n",
    "optimizer.maximize(\n",
    "    init_points=3,\n",
    "    n_iter=50,\n",
    ")\n",
    "end = time.time()\n",
    "print('Time consumed: ' , end - start)"
   ]
  },
  {
   "cell_type": "code",
   "execution_count": 14,
   "metadata": {},
   "outputs": [
    {
     "data": {
      "text/plain": [
       "{'target': 0.813953488372093,\n",
       " 'params': {'lr': 0.0011623431160238205, 'num_channel': 0.29725476914104565}}"
      ]
     },
     "execution_count": 14,
     "metadata": {},
     "output_type": "execute_result"
    }
   ],
   "source": [
    "optimizer.max"
   ]
  },
  {
   "cell_type": "code",
   "execution_count": 15,
   "metadata": {},
   "outputs": [
    {
     "data": {
      "text/plain": [
       "24"
      ]
     },
     "execution_count": 15,
     "metadata": {},
     "output_type": "execute_result"
    }
   ],
   "source": [
    "int(8 + 0.29725476914104565*54)"
   ]
  },
  {
   "cell_type": "markdown",
   "metadata": {},
   "source": [
    "- original CNN accuracy 0.7674 (lr: 0.001, num_channel: 32)\n",
    "- auto-hyperparameter tuning with BO 0.8139 (lr: 0.00116, num_channel: 24)"
   ]
  },
  {
   "cell_type": "code",
   "execution_count": null,
   "metadata": {},
   "outputs": [],
   "source": [
    " val_acc = evaluate_accuracy(best, valid_loader, device)"
   ]
  }
 ],
 "metadata": {
  "kernelspec": {
   "display_name": "Python [conda env:torch] *",
   "language": "python",
   "name": "conda-env-torch-py"
  },
  "language_info": {
   "codemirror_mode": {
    "name": "ipython",
    "version": 3
   },
   "file_extension": ".py",
   "mimetype": "text/x-python",
   "name": "python",
   "nbconvert_exporter": "python",
   "pygments_lexer": "ipython3",
   "version": "3.6.8"
  }
 },
 "nbformat": 4,
 "nbformat_minor": 2
}
